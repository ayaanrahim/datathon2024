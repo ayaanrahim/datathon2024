{
 "cells": [
  {
   "cell_type": "code",
   "execution_count": 1,
   "metadata": {},
   "outputs": [],
   "source": [
    "import pandas as pd\n",
    "import numpy as np\n",
    "from sklearn.model_selection import train_test_split\n",
    "from sklearn.ensemble import RandomForestRegressor\n",
    "from sklearn.metrics import mean_absolute_percentage_error\n",
    "\n",
    "data_path = 'UrbanEdgeApparel.csv'\n",
    "data = pd.read_csv(data_path)"
   ]
  },
  {
   "cell_type": "code",
   "execution_count": 2,
   "metadata": {},
   "outputs": [
    {
     "name": "stderr",
     "output_type": "stream",
     "text": [
      "/var/folders/83/176ss48d3c9f59p39cy9n9lc0000gn/T/ipykernel_65883/2567455480.py:4: FutureWarning: 'M' is deprecated and will be removed in a future version, please use 'ME' instead.\n",
      "  pd.Grouper(key='Order Date', freq='M'),\n"
     ]
    }
   ],
   "source": [
    "data['Order Date'] = pd.to_datetime(data['Order Date'])\n",
    "\n",
    "monthly_data = data.groupby([\n",
    "    pd.Grouper(key='Order Date', freq='M'), \n",
    "    'Product ID', \n",
    "    'Company ID', \n",
    "    'Shipping Country'\n",
    "]).agg({\n",
    "    'Order ID': 'count',\n",
    "    'Total Selling Price': 'sum',\n",
    "    'Product Quantity': 'sum'\n",
    "}).reset_index()\n",
    "\n",
    "monthly_data.rename(columns={\n",
    "    'Order ID': 'Total Sales',\n",
    "    'Total Selling Price': 'Total Sell Price',\n",
    "    'Product Quantity': 'Total Quantity'\n",
    "}, inplace=True)"
   ]
  },
  {
   "cell_type": "code",
   "execution_count": 3,
   "metadata": {},
   "outputs": [],
   "source": [
    "def create_lag_features(df, lags, columns):\n",
    "    for column in columns:\n",
    "        for lag in range(1, lags + 1):\n",
    "            df[f'{column}_lag_{lag}'] = df.groupby(['Product ID', 'Company ID', 'Shipping Country'])[column].shift(lag)\n",
    "    return df\n",
    "\n",
    "def create_moving_average_features(df, windows, columns):\n",
    "    for column in columns:\n",
    "        for window in windows:\n",
    "            df[f'{column}_ma_{window}'] = df.groupby(['Product ID', 'Company ID', 'Shipping Country'])[column].transform(lambda x: x.rolling(window, min_periods=1).mean())\n",
    "    return df"
   ]
  },
  {
   "cell_type": "code",
   "execution_count": 4,
   "metadata": {},
   "outputs": [],
   "source": [
    "lag_columns = ['Total Sales', 'Total Sell Price', 'Total Quantity']\n",
    "ma_windows = [3, 6, 12]\n",
    "monthly_data = create_lag_features(monthly_data, lags=3, columns=lag_columns)\n",
    "monthly_data = create_moving_average_features(monthly_data, windows=ma_windows, columns=lag_columns)\n",
    "\n",
    "monthly_data.dropna(inplace=True)\n",
    "\n",
    "features = [col for col in monthly_data.columns if col not in ['Order Date', 'Product ID', 'Company ID', 'Shipping Country', 'Total Sales', 'Total Sell Price', 'Total Quantity']]\n",
    "target_sales = 'Total Sales'\n",
    "target_price = 'Total Sell Price'\n",
    "target_quantity = 'Total Quantity'"
   ]
  },
  {
   "cell_type": "code",
   "execution_count": 5,
   "metadata": {},
   "outputs": [
    {
     "name": "stdout",
     "output_type": "stream",
     "text": [
      "Total Sales MAPE: 0.01837458756432952\n",
      "Total Selling Price MAPE: 0.13382459089819285\n",
      "Total Quantity MAPE: 0.12106527109747402\n"
     ]
    }
   ],
   "source": [
    "\n",
    "X = monthly_data[features]\n",
    "y_sales = monthly_data[target_sales]\n",
    "y_price = monthly_data[target_price]\n",
    "y_quantity = monthly_data[target_quantity]\n",
    "\n",
    "X_train, X_test, y_sales_train, y_sales_test = train_test_split(X, y_sales, test_size=0.2, random_state=42)\n",
    "_, _, y_price_train, y_price_test = train_test_split(X, y_price, test_size=0.2, random_state=42)\n",
    "_, _, y_quantity_train, y_quantity_test = train_test_split(X, y_quantity, test_size=0.2, random_state=42)\n",
    "\n",
    "rf_sales = RandomForestRegressor(n_estimators=100, random_state=42)\n",
    "rf_price = RandomForestRegressor(n_estimators=100, random_state=42)\n",
    "rf_quantity = RandomForestRegressor(n_estimators=100, random_state=42)\n",
    "\n",
    "rf_sales.fit(X_train, y_sales_train)\n",
    "rf_price.fit(X_train, y_price_train)\n",
    "rf_quantity.fit(X_train, y_quantity_train)\n",
    "\n",
    "y_sales_pred = rf_sales.predict(X_test)\n",
    "y_price_pred = rf_price.predict(X_test)\n",
    "y_quantity_pred = rf_quantity.predict(X_test)\n",
    "\n",
    "mape_sales = mean_absolute_percentage_error(y_sales_test, y_sales_pred)\n",
    "mape_price = mean_absolute_percentage_error(y_price_test, y_price_pred)\n",
    "mape_quantity = mean_absolute_percentage_error(y_quantity_test, y_quantity_pred)\n",
    "\n",
    "print(f'Total Sales MAPE: {mape_sales}')\n",
    "print(f'Total Selling Price MAPE: {mape_price}')\n",
    "print(f'Total Quantity MAPE: {mape_quantity}')"
   ]
  },
  {
   "cell_type": "code",
   "execution_count": 6,
   "metadata": {},
   "outputs": [
    {
     "name": "stderr",
     "output_type": "stream",
     "text": [
      "/var/folders/83/176ss48d3c9f59p39cy9n9lc0000gn/T/ipykernel_65883/1426993183.py:1: FutureWarning: 'M' is deprecated and will be removed in a future version, please use 'ME' instead.\n",
      "  future_dates = pd.date_range(start=monthly_data['Order Date'].max() + pd.DateOffset(months=1), periods=24, freq='M')\n"
     ]
    },
    {
     "name": "stdout",
     "output_type": "stream",
     "text": [
      "Total Company Predictions:\n",
      "   Order Date  Total Sales  Total Sell Price  Total Quantity\n",
      "0 2024-06-30      5054.65         7138.0838          3697.7\n",
      "1 2024-07-31      5054.65         7138.0838          3697.7\n",
      "2 2024-08-31      5054.65         7138.0838          3697.7\n",
      "3 2024-09-30      5054.65         7138.0838          3697.7\n",
      "4 2024-10-31      5054.65         7138.0838          3697.7\n",
      "\n",
      "Product Predictions:\n",
      "   Order Date  Product ID  Total Sales  Total Sell Price  Total Quantity\n",
      "0 2024-06-30   Prod_1000       294.87          260.1115          148.21\n",
      "1 2024-06-30  Prod_10021         5.00            9.9765            4.00\n",
      "2 2024-06-30   Prod_1003        18.00           39.8350           16.00\n",
      "3 2024-06-30   Prod_1005        70.00          151.1540           61.20\n",
      "4 2024-06-30   Prod_1007        30.00           74.9370           30.00\n",
      "\n",
      "Company Predictions:\n",
      "   Order Date     Company ID  Total Sales  Total Sell Price  Total Quantity\n",
      "0 2024-06-30   Company_1021         1.00            2.5075            1.00\n",
      "1 2024-06-30  Company_10511        17.19           32.0000           13.94\n",
      "2 2024-06-30  Company_12476        29.02           35.6850           18.36\n",
      "3 2024-06-30  Company_13099        78.40           47.2105           33.48\n",
      "4 2024-06-30  Company_13431         1.00            2.5075            1.00\n",
      "\n",
      "Country Predictions:\n",
      "   Order Date                      Shipping Country  Total Sales  \\\n",
      "0 2024-06-30                                 Japan        47.93   \n",
      "1 2024-06-30          Tanzania, United Republic Of         1.00   \n",
      "2 2024-06-30                         United States      4996.72   \n",
      "3 2024-06-30  United States Minor Outlying Islands         9.00   \n",
      "4 2024-07-31                                 Japan        47.93   \n",
      "\n",
      "   Total Sell Price  Total Quantity  \n",
      "0           85.4800           37.71  \n",
      "1            2.5075            1.00  \n",
      "2         7038.3938         3653.97  \n",
      "3           11.7025            5.02  \n",
      "4           85.4800           37.71  \n"
     ]
    }
   ],
   "source": [
    "\n",
    "future_dates = pd.date_range(start=monthly_data['Order Date'].max() + pd.DateOffset(months=1), periods=24, freq='M')\n",
    "\n",
    "future_data_template = monthly_data[['Product ID', 'Company ID', 'Shipping Country']].drop_duplicates()\n",
    "future_data_template = future_data_template.assign(key=1).merge(pd.DataFrame({'Order Date': future_dates, 'key': 1}), on='key').drop('key', axis=1)\n",
    "\n",
    "for feature in features:\n",
    "    future_data_template[feature] = np.nan\n",
    "\n",
    "def generate_future_data(last_known_data, future_template, model_sales, model_price, model_quantity, features):\n",
    "    future_data = future_template.copy()\n",
    "    for i, row in future_data.iterrows():\n",
    "        subset = last_known_data[(last_known_data['Product ID'] == row['Product ID']) &\n",
    "                                 (last_known_data['Company ID'] == row['Company ID']) &\n",
    "                                 (last_known_data['Shipping Country'] == row['Shipping Country'])]\n",
    "        if not subset.empty:\n",
    "            last_row = subset.iloc[-1]\n",
    "            for feature in features:\n",
    "                if 'lag' in feature:\n",
    "                    lag_num = int(feature.split('_')[-1])\n",
    "                    if lag_num == 1:\n",
    "                        future_data.at[i, feature] = last_row[target_sales]\n",
    "                    else:\n",
    "                        future_data.at[i, feature] = last_row[feature.replace(f'lag_{lag_num}', f'lag_{lag_num-1}')]\n",
    "                elif 'ma' in feature:\n",
    "                    window = int(feature.split('_')[-1])\n",
    "                    values = subset[target_sales].values[-window:]\n",
    "                    future_data.at[i, feature] = values.mean() if len(values) > 0 else 0\n",
    "    X_future = future_data[features].fillna(0)\n",
    "    future_data['Total Sales'] = model_sales.predict(X_future)\n",
    "    future_data['Total Sell Price'] = model_price.predict(X_future)\n",
    "    future_data['Total Quantity'] = model_quantity.predict(X_future)\n",
    "    return future_data\n",
    "\n",
    "future_predictions = generate_future_data(monthly_data, future_data_template, rf_sales, rf_price, rf_quantity, features)\n",
    "\n",
    "\n",
    "total_company_predictions = future_predictions.groupby('Order Date').agg({\n",
    "    'Total Sales': 'sum',\n",
    "    'Total Sell Price': 'sum',\n",
    "    'Total Quantity': 'sum'\n",
    "}).reset_index()\n",
    "\n",
    "product_predictions = future_predictions.groupby(['Order Date', 'Product ID']).agg({\n",
    "    'Total Sales': 'sum',\n",
    "    'Total Sell Price': 'sum',\n",
    "    'Total Quantity': 'sum'\n",
    "}).reset_index()\n",
    "\n",
    "company_predictions = future_predictions.groupby(['Order Date', 'Company ID']).agg({\n",
    "    'Total Sales': 'sum',\n",
    "    'Total Sell Price': 'sum',\n",
    "    'Total Quantity': 'sum'\n",
    "}).reset_index()\n",
    "\n",
    "country_predictions = future_predictions.groupby(['Order Date', 'Shipping Country']).agg({\n",
    "    'Total Sales': 'sum',\n",
    "    'Total Sell Price': 'sum',\n",
    "    'Total Quantity': 'sum'\n",
    "}).reset_index()\n",
    "\n",
    "print(\"Total Company Predictions:\\n\", total_company_predictions.head())\n",
    "print(\"\\nProduct Predictions:\\n\", product_predictions.head())\n",
    "print(\"\\nCompany Predictions:\\n\", company_predictions.head())\n",
    "print(\"\\nCountry Predictions:\\n\", country_predictions.head())"
   ]
  }
 ],
 "metadata": {
  "kernelspec": {
   "display_name": "Python 3",
   "language": "python",
   "name": "python3"
  },
  "language_info": {
   "codemirror_mode": {
    "name": "ipython",
    "version": 3
   },
   "file_extension": ".py",
   "mimetype": "text/x-python",
   "name": "python",
   "nbconvert_exporter": "python",
   "pygments_lexer": "ipython3",
   "version": "3.11.3"
  }
 },
 "nbformat": 4,
 "nbformat_minor": 2
}
